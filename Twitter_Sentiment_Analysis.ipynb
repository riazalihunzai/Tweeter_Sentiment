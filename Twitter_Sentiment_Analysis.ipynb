{
 "cells": [
  {
   "cell_type": "markdown",
   "metadata": {},
   "source": [
    "# Sentiment Analysis from Tweets\n",
    "[Twitter](https://twitter.com/) is a popular microblog service where people can post information and opinions on any topic. For this assignment, you will use tweets about Apple corporation that were extracted from a Twitter dataset created by Sanders Analytics. You can also use the [Twitter api](https://developer.twitter.com/en/docs) for extracting tweets\n",
    "to create your own dataset.\n",
    "\n",
    "We will divide this task into the following two sub tasks:\n",
    "<ul>\n",
    "<li>The first sub task is binary sentiment classification, for this you will use the  twitter-sanders-apple2.csv file that contains 479 tweets. It has two categories: \n",
    "    <ul>\n",
    "        <li>Pos: Tweets that express a positive or favorable sentiment (Count=163)</li>\n",
    "        <li>Neg: Tweets that express a negative or unfavorable sentiment (Count=316)</li>\n",
    "    </ul>\n",
    "</li>\n",
    "<br><br>    \n",
    "<li>The second sub task is binary sentiment classification, for this you will use the  file twitter-sanders-apple3.csv contains 988 tweets. It has three categories: \n",
    "    <ul>\n",
    "        <li>Pos: Tweets that express a positive or favorable sentiment (Count=163)</li>\n",
    "        <li>Neg: Tweets that express a negative or unfavorable sentiment (Count=316)</li>\n",
    "        <li>Neutral: tweets that do not express a sentiment (Count=509)</li>\n",
    "    </ul>\n",
    "</li>\n",
    "</ul>\n"
   ]
  },
  {
   "cell_type": "code",
   "execution_count": 75,
   "metadata": {},
   "outputs": [],
   "source": [
    "from sklearn.metrics import confusion_matrix\n",
    "from sklearn.metrics import classification_report\n",
    "from sklearn.model_selection import train_test_split\n",
    "import matplotlib.pyplot as plt\n",
    "import matplotlib.mlab as mlab\n",
    "import seaborn as sn\n",
    "import pandas as pd\n",
    "import re\n",
    "import nltk\n",
    "from bs4 import BeautifulSoup\n",
    "from nltk.corpus import stopwords\n",
    "from nltk import ngrams\n",
    "import numpy as np\n",
    "from sklearn.naive_bayes import MultinomialNB"
   ]
  },
  {
   "cell_type": "markdown",
   "metadata": {},
   "source": [
    "### Step 1: Load the data\n",
    "For this you can use python built in file reader to load the data, you will have to split each row to create list of Tweets(X) and list of sentiment Labels(Y). An alternate option is to use [Pandas](https://pandas.pydata.org/pandas-docs/stable/index.html) to load the csv file, then return the two cols in pandas dataframe as arrays."
   ]
  },
  {
   "cell_type": "code",
   "execution_count": 2,
   "metadata": {},
   "outputs": [],
   "source": [
    "def load_data(filename):\n",
    "    \"\"\"\n",
    "    Load data from file\n",
    "\n",
    "    Args:\n",
    "        filename : Name of the file from which the data is to be loaded\n",
    "    \n",
    "    Returns: tweet_X, sentiment_Y\n",
    "    tweet_X: list of tweets\n",
    "    sentiment_Y: list of sentiment lables correponding to each tweet\n",
    "    \"\"\"\n",
    "    data=pd.read_csv(filename)\n",
    "    tweet_X=list(data[\"text\"])\n",
    "    sentiment_Y=list(data[\"class\"])\n",
    "    return tweet_X,sentiment_Y#update these\n",
    "tweet_X_task1, sentiment_label_Y_task1=load_data(\"twitter-sanders-apple2.csv\")\n",
    "tweet_X_task2, sentiment_label_Y_task2=load_data(\"twitter-sanders-apple3.csv\")\n",
    "test=tweet_X_task1\n"
   ]
  },
  {
   "cell_type": "markdown",
   "metadata": {},
   "source": [
    "### Step 2: Preprocessing\n",
    "Before we move on to the actual classification section, there is some data cleaning up to be done. As a matter of fact, this step is critical, as it ultimately effects the learning process of your model. So basically [this](https://ibb.co/G9zcx2K) can happen to your model.\n",
    "\n",
    "We will keep to simple preprocessing to make out task easier. Some of you might disagree with the preprocessing steps stated below, hence we wish to mention that choosing different preprocessing steps depend on the nature of task at hand and alos that there are always trade offs associated augmenting the orignal dataset.<br>\n",
    "\n",
    "You are required to perform the following preprocessing steps:<br>\n",
    "<i>(note that you must figure out the order of steps for ease of preprocessing yourself)</i><br>\n",
    "<ul>\n",
    "    <li><b>Remove all punctuations.</b><br> Although this makes things simple it is not always a good idea to remove punctuation for example in sentiment classification the use of exclaimation marks, can be used to intensify the sentiment of a given word or sentence hence might be useful, nevertheless it increases the vocabulary size hence we will not use it here. e.g. <blockquote>The opening ceremony was extreamly disappointing!!! #PSL5</blockquote>\n",
    "        Removing pucntutations also removes emojis which might also be helpful.\n",
    "    </li><br>\n",
    "    <li><b>Remove all html tags.</b><br> Mostly done for all tasks </li><br>\n",
    "    <li><b>Replace all @sometext with AT_TOKEN.</b><br>Since there will be lots of different usernames or words that can follow @ we will choose to ignore them as they dont have much sentiment information. Might be usefull for Named Entity Recognition </li>e.g. \n",
    "    <blockquote>@apple will be converted to AT_TOKEN</blockquote>\n",
    "    <li><b>Remove all # symbols.</b> We want to remove the # in #applesucks so that it is not treated differently that any other word in the sentence, this migh also help us to reduce our vocabulary size.</li><br>\n",
    "    <li><b>Convert the tweets to lower case text</b><br> Although all CAPS convey meaningful information for sentiment analysis we mostly convert text to lower case to reduce vocabulary size by reducing the number of variations. For example Car, cAr ,CAR, caR and car will now be treated as a single token car.</li><br>\n",
    "    <li><b>Tokenize the text</b><br></li><br>\n",
    "</ul>    \n",
    "    "
   ]
  },
  {
   "cell_type": "code",
   "execution_count": 3,
   "metadata": {},
   "outputs": [],
   "source": [
    "def preprocessing(data):\n",
    "    \"\"\"\n",
    "    Perform preprocessing of the tweets\n",
    "\n",
    "    Args:\n",
    "        data : list of tweets\n",
    "    \n",
    "    Returns: data: preprocessed list of tweets\n",
    "    \"\"\"\n",
    "    new_tweet_list=[]\n",
    "    for tweet in data:\n",
    "        tweet=tweet.lower() #Convert the tweets to lower case text\n",
    "        tweet=re.sub( r'[@]\\S*',\"AT_TOKEN \", tweet) #Replace all @sometext with AT_TOKEN.\n",
    "        t=list(tweet.split(\" \"))\n",
    "        n=\"\"\n",
    "        for i in range(len(t)): #Remove all # symbols\n",
    "            m = re.search('#(\\w+)',t[i])\n",
    "            if not m:\n",
    "                if i==0:\n",
    "                    n=t[i]\n",
    "                else:\n",
    "                    n=n+\" \"+t[i]\n",
    "            else :\n",
    "                n=n+\" \"+m.group(1)\n",
    "        tweet=n\n",
    "        tweet=re.sub(r'http[s]?:\\/\\/(?:[a-zA-Z]|[0-9]|[$-_@.&+]|[!*\\(\\),]|(?:%[0-9a-fA-F][0-9a-fA-F]))+','',tweet) #Remove html and url\n",
    "        tweet=re.sub(r'[^\\w\\s]','',tweet) #remove all punctuations\n",
    "        tweet=nltk.word_tokenize(tweet) #tokenization\n",
    "        en_stops = set(stopwords.words('english'))\n",
    "        temp_tweet=\"\"\n",
    "        for w in tweet:\n",
    "            if w not in en_stops:\n",
    "                temp_tweet=temp_tweet+w+\" \"\n",
    "        tweet=temp_tweet \n",
    "        #tweet=nltk.word_tokenize(tweet)\n",
    "        new_tweet_list.append(tweet)\n",
    "        \n",
    "    return new_tweet_list  \n",
    "\n",
    "tweet_X_task1=preprocessing(tweet_X_task1)\n",
    "tweet_X_task2=preprocessing(tweet_X_task2)\n",
    "#print (test[134])\n",
    "#print (tweet_X_task1[134])    "
   ]
  },
  {
   "cell_type": "markdown",
   "metadata": {},
   "source": [
    "## Step 3: Feature Extraction\n",
    "For feature extraction you  will  need  a  way  of  mapping  from  sentences  (lists  of  strings)  to  featurevectors, a process called feature extraction or featurization.<br>\n",
    "For feature vectors we will explore four techniques:\n",
    "<ul>\n",
    "    <li><b>Unigram feature vector</b>\n",
    "        <br> This will be a sparse vector with length equal to the vocabulary size.   It is sparse because a sentence generally contains only 20-40 unique words, so only this many positions in the vector will be nonzero.\n",
    "</li><br>\n",
    "    <li><b>Bigram feature vector</b><br>\n",
    "    The number of unique bigrams will be significantly lower that unigrams, but this will also be sparse.</li><br>\n",
    "    <li><b>POS features</b>\n",
    "    Instead of using the words we will use POS tags, this will be generally not as sparse as unigram and bigram, you can use nltk to get POS tags for a sentence, here the featurevectors length will be equal to the total number of unique POS tags.</li><br>\n",
    "    <li><b>Complex features</b>\n",
    "    These can be a combination of unigrams and bigrams or any other complex feature that you can think of, we will explore these in later part of the assignment.</li><br>\n",
    "</ul>\n",
    "\n",
    "Firstly we need the extract the vocabulary for each of these different feature vectors.<br> \n",
    "For this task use [nltk](https://www.nltk.org/)\n"
   ]
  },
  {
   "cell_type": "code",
   "execution_count": 4,
   "metadata": {},
   "outputs": [],
   "source": [
    "def vocabulary_unigram(data):\n",
    "    \"\"\"\n",
    "    Returns list of unique unigrams\n",
    "\n",
    "    Args:\n",
    "        data : list of tweets\n",
    "    \n",
    "    Returns: vocab_unigram: list of unique unigrams\n",
    "    \"\"\"\n",
    "    text=\"\"\n",
    "    for w in data:\n",
    "        text=text+w+\" \"\n",
    "    unigrams=ngrams(text.split(),1)\n",
    "    i=0\n",
    "    total_tokens=[]\n",
    "    for grams in unigrams:\n",
    "        total_tokens.append(grams[0])\n",
    "        i=i+1\n",
    "    V=set(total_tokens)\n",
    "    #print (len(total_tokens),\",\",len(V))\n",
    "    return list(V)\n",
    "def vocabulary_bigram(data):\n",
    "    \"\"\"\n",
    "    Returns list of unique bigrams\n",
    "\n",
    "    Args:\n",
    "        data : list of tweets\n",
    "    \n",
    "    Returns: vocab_unigram: list of unique bigrams\n",
    "    \"\"\"\n",
    "    text=\"\"\n",
    "    for w in data:\n",
    "        text=text+w+\" \"\n",
    "    bigrams=ngrams(text.split(),2)\n",
    "    i=0\n",
    "    total_tokens=[]\n",
    "    for grams in bigrams:\n",
    "        total_tokens.append(grams)\n",
    "        i=i+1\n",
    "    V=set(total_tokens)\n",
    "    return list(V)\n",
    "def vocabulary_POS(data):\n",
    "    \"\"\"\n",
    "    Returns list of unique POS tags\n",
    "\n",
    "    Args:\n",
    "        data : list of tweets\n",
    "    \n",
    "    Returns: vocab_unigram: list of unique POS tags\n",
    "    \"\"\"\n",
    "    text=\"\"\n",
    "    for w in data:\n",
    "        text=text+w+\" \"\n",
    "    pos=nltk.pos_tag(text.split())\n",
    "    i=0\n",
    "    total_tokens=[]\n",
    "    for p in pos:\n",
    "        #print (p)\n",
    "        total_tokens.append(p)\n",
    "        i=i+1\n",
    "    V=set(total_tokens)\n",
    "    return list(V)\n",
    "vocab_unigram_task1=vocabulary_unigram(tweet_X_task1)\n",
    "vocab_bigram_task1=vocabulary_bigram(tweet_X_task1)\n",
    "vocab_pos_tag_task1=vocabulary_POS(tweet_X_task1)\n",
    "\n",
    "vocab_unigram_task2=vocabulary_unigram(tweet_X_task2)\n",
    "vocab_bigram_task2=vocabulary_bigram(tweet_X_task2)\n",
    "vocab_pos_tag_task2=vocabulary_POS(tweet_X_task2)\n",
    "#print(len(vocab_pos_tag_task1))"
   ]
  },
  {
   "cell_type": "markdown",
   "metadata": {},
   "source": [
    "### Creating the feature vector\n",
    "The feature vector that is to be created is in the following format:e.g.\n",
    "<blockquote>{'simplistic': False, 'silly': True, 'and': True, 'tedious': False, 'its': False, 'so': True, 'laddish': False, 'juvenile': False, 'only': False, 'teenage': False, 'boys': False, 'could': False, 'possibly': False, 'find': False, 'it': False, 'funny': False, 'exploitative': False, 'largely': False, 'devoid': False}</blockquote><br>\n",
    "Instructions on how to make the feature vectors:\n",
    "<ul>\n",
    "    <li><b>For each tweet</b> the feature vector to be constructed will be equal to the <b>size of the vocabulary</b>.</li>\n",
    "    <li>The feature vector is a dictionary with <b>word and boolean pairs</b>, here the boolean will be <b>true</b> if the specific word exists in the tweet otherwise it will be <b>false</b>.</li>\n",
    "    \n",
    "</ul>\n"
   ]
  },
  {
   "cell_type": "code",
   "execution_count": 95,
   "metadata": {},
   "outputs": [],
   "source": [
    "def features_unigram(data,vocab):\n",
    "    \"\"\"\n",
    "    Returns list of feature vectors\n",
    "\n",
    "    Args:\n",
    "        data : list of tweets\n",
    "    \n",
    "    Returns: vocab_unigram: list of unique unigrams\n",
    "    \"\"\"\n",
    "    features_list=[]\n",
    "    for tweet in data:\n",
    "        feature_vector={}\n",
    "        for word in vocab:\n",
    "            if word  not in tweet.split():\n",
    "                feature_vector[word]=False\n",
    "            else:\n",
    "                feature_vector[word]=True\n",
    "        features_list.append(feature_vector) \n",
    "    return features_list\n",
    "def features_bigram(data,vocab):\n",
    "    \"\"\"\n",
    "    Returns list of unique bigrams\n",
    "\n",
    "    Args:\n",
    "        data : list of tweets\n",
    "    \n",
    "    Returns: vocab_unigram: list of unique bigrams\n",
    "    \"\"\"\n",
    "    features_list=[]\n",
    "    for tweet in data:\n",
    "        feature_vector={}\n",
    "        bigrams=list(ngrams(tweet.split(),2))\n",
    "        for word in vocab:\n",
    "            #bigrams=list(ngrams(tweet.split(),2))\n",
    "            if word in bigrams:\n",
    "                feature_vector[word]=True\n",
    "            elif word not in bigrams:\n",
    "                feature_vector[word]=False     \n",
    "        features_list.append(feature_vector) \n",
    "    return features_list    \n",
    "def features_POS(data,vocab):\n",
    "    \"\"\"\n",
    "    Returns list of unique POS tags\n",
    "\n",
    "    Args:\n",
    "        data : list of tweets\n",
    "    \n",
    "    Returns: vocab_unigram: list of unique POS tags\n",
    "    \"\"\"\n",
    "    features_list=[]\n",
    "    for tweet in data:\n",
    "        feature_vector={}\n",
    "        pos=list(nltk.pos_tag(tweet.split()))\n",
    "        for word in vocab:\n",
    "            #pos=list(nltk.pos_tag(tweet.split()))\n",
    "            if word in pos:\n",
    "                feature_vector[word]=True\n",
    "            elif word not in pos:\n",
    "                feature_vector[word]=False\n",
    "\n",
    "        features_list.append(feature_vector) \n",
    "        \n",
    "    return features_list\n",
    "task1_unigram_features=features_unigram(tweet_X_task1,vocab_unigram_task1)\n",
    "task1_bigram_features=features_bigram(tweet_X_task1,vocab_bigram_task1)\n",
    "task1_POS_features=features_POS(tweet_X_task1,vocab_pos_tag_task1)\n",
    "\n",
    "task2_unigram_features=features_unigram(tweet_X_task2,vocab_unigram_task2)\n",
    "task2_bigram_features=features_bigram(tweet_X_task2,vocab_bigram_task2)\n",
    "task2_POS_features=features_POS(tweet_X_task2,vocab_pos_tag_task2)"
   ]
  },
  {
   "cell_type": "code",
   "execution_count": 121,
   "metadata": {},
   "outputs": [],
   "source": [
    "def test_train_split(featurevectors,label_Y):\n",
    "    \"\"\"\n",
    "    Returns test train split data\n",
    "\n",
    "    Args:\n",
    "        featurevectors : list of feature vectors\n",
    "    \n",
    "    Returns: feature_vector_train, feature_vector_test, label_train, label_test\n",
    "    \"\"\"\n",
    "    X=np.zeros((len(featurevectors),len(featurevectors[0])))  \n",
    "    for i in range(len(featurevectors)):\n",
    "        j=0\n",
    "        for key,value in featurevectors[i].items():\n",
    "            if value==True:\n",
    "                 X[i][j]=1\n",
    "            j=j+1        \n",
    "    Y=np.zeros(len(label_Y))            \n",
    "    for i in range (len(label_Y)):\n",
    "        if label_Y[i]=='Pos':\n",
    "            Y[i]=1\n",
    "        elif label_Y[i]=='Neutral':   \n",
    "            Y[i]=-1\n",
    "        else:\n",
    "            Y[i]=0\n",
    "    X_train,X_test,Y_train,Y_test=train_test_split(X,Y,test_size=0.20, random_state=42)        \n",
    "    return X_train,X_test,Y_train,Y_test\n",
    "task1_unigram_features_train, task1_unigram_features_test, task1_label_train, task1_label_test=test_train_split(task1_unigram_features,sentiment_label_Y_task1)\n",
    "\n",
    "task1_bigram_features_train, task1_bigram_features_test, task1_label_train, task1_label_test=test_train_split(task1_bigram_features,sentiment_label_Y_task1)\n",
    "\n",
    "task1_POS_features_train, task1_POS_features_test, task1_label_train, task1_label_test=test_train_split(task1_POS_features,sentiment_label_Y_task1)\n",
    "\n",
    "\n",
    "task2_unigram_features_train, task2_unigram_features_test, task2_label_train, task2_label_test=test_train_split(task2_unigram_features,sentiment_label_Y_task2)\n",
    "\n",
    "task2_bigram_features_train, task2_bigram_features_test, task2_label_train, task2_label_test=test_train_split(task2_bigram_features,sentiment_label_Y_task2)\n",
    "\n",
    "task2_POS_features_train, task2_POS_features_test, task2_label_train, task2_label_test=test_train_split(task2_POS_features,sentiment_label_Y_task2)"
   ]
  },
  {
   "cell_type": "markdown",
   "metadata": {},
   "source": [
    "### Step 5: Modelling and Predictions "
   ]
  },
  {
   "cell_type": "markdown",
   "metadata": {},
   "source": [
    "#### Model 1: Niave Bayes\n",
    "For the purpose of classification we will use [Niave Bayes](https://scikit-learn.org/stable/modules/generated/sklearn.naive_bayes.MultinomialNB.html) from sklearn. Train the Niave Bayes algorithm on all featurevector variants of task 1 and task 2.<br>\n",
    "In order to compare and quantify the goodness of our model we will compute a [classification report](https://scikit-learn.org/stable/modules/generated/sklearn.metrics.classification_report.html). We will also create a [confusion matrix](https://scikit-learn.org/stable/modules/generated/sklearn.metrics.confusion_matrix.html) to see what mistakes the model might be making.\n",
    "\n",
    "First program the train_model and predictions function which are general functions that will be used later on."
   ]
  },
  {
   "cell_type": "code",
   "execution_count": 122,
   "metadata": {},
   "outputs": [],
   "source": [
    "def train_model(model,features,labels):\n",
    "    \"\"\"\n",
    "    Trains a Naive Bayes model \n",
    "\n",
    "    Args:\n",
    "        features : list of feature vectors or X\n",
    "        labels: targets or Y\n",
    "        model: Niave Bayes model that is to be trained\n",
    "    \n",
    "    Returns: trained model\n",
    "    \"\"\"\n",
    "    return model.fit(features,labels)"
   ]
  },
  {
   "cell_type": "code",
   "execution_count": 123,
   "metadata": {},
   "outputs": [],
   "source": [
    "def predictions(model,features):\n",
    "    \"\"\"\n",
    "    Returns predictions from a trained model\n",
    "\n",
    "    Args:\n",
    "        features : list of feature vectors or X\n",
    "        model: Niave Bayes model that is to be trained\n",
    "    \n",
    "    Returns: prediction list\n",
    "    \"\"\"\n",
    "    y_pred = model.predict(features)\n",
    "    return y_pred"
   ]
  },
  {
   "cell_type": "markdown",
   "metadata": {},
   "source": [
    "##### Using the above functions train different models for different feature vectors and  obtain the models predictions for test set."
   ]
  },
  {
   "cell_type": "code",
   "execution_count": 124,
   "metadata": {},
   "outputs": [],
   "source": [
    "#train model on task1_unigram_features_train\n",
    "###__________Code_Here________________###\n",
    "model = MultinomialNB()\n",
    "unigram_model=train_model(model,task1_unigram_features_train,task1_label_train)\n",
    "\n",
    "###___________________________________###"
   ]
  },
  {
   "cell_type": "code",
   "execution_count": 125,
   "metadata": {},
   "outputs": [
    {
     "name": "stdout",
     "output_type": "stream",
     "text": [
      "              precision    recall  f1-score   support\n",
      "\n",
      "           1       0.73      0.77      0.75        35\n",
      "           0       0.86      0.84      0.85        61\n",
      "\n",
      "    accuracy                           0.81        96\n",
      "   macro avg       0.80      0.80      0.80        96\n",
      "weighted avg       0.82      0.81      0.81        96\n",
      "\n"
     ]
    },
    {
     "data": {
      "image/png": "[encoded data removed]",
      "text/plain": [
       "<Figure size 432x288 with 2 Axes>"
      ]
     },
     "metadata": {},
     "output_type": "display_data"
    }
   ],
   "source": [
    "#Classification report for task1_unigram_features_train\n",
    "###__________Code_Here________________###\n",
    "pred=predictions(unigram_model,task1_unigram_features_test)\n",
    "###___________________________________###\n",
    "\n",
    "print(classification_report(task1_label_test, pred, labels=[1, 0]))\n",
    "cm=confusion_matrix(task1_label_test,pred)\n",
    "cm = pd.DataFrame(cm, ['Pos','Neg'], ['Pos','Neg'])# matrix,names row,names col,\n",
    "# plt.figure(figsize=(10,7))\n",
    "sn.set(font_scale=1.5) # for label size\n",
    "sn.heatmap(cm, annot=True, annot_kws={\"size\": 11}, fmt=\"d\") # font size\n",
    "plt.show()"
   ]
  },
  {
   "cell_type": "code",
   "execution_count": 126,
   "metadata": {},
   "outputs": [],
   "source": [
    "#train model on task1_bigram_features_train\n",
    "###__________Code_Here________________###\n",
    "model = MultinomialNB()\n",
    "bigram_model=train_model(model,task1_bigram_features_train,task1_label_train)\n",
    "\n",
    "###___________________________________###"
   ]
  },
  {
   "cell_type": "code",
   "execution_count": 127,
   "metadata": {},
   "outputs": [
    {
     "name": "stdout",
     "output_type": "stream",
     "text": [
      "              precision    recall  f1-score   support\n",
      "\n",
      "           1       0.38      0.80      0.52        35\n",
      "           0       0.70      0.26      0.38        61\n",
      "\n",
      "    accuracy                           0.46        96\n",
      "   macro avg       0.54      0.53      0.45        96\n",
      "weighted avg       0.58      0.46      0.43        96\n",
      "\n"
     ]
    },
    {
     "data": {
      "image/png": "[encoded data removed]",
      "text/plain": [
       "<Figure size 432x288 with 2 Axes>"
      ]
     },
     "metadata": {},
     "output_type": "display_data"
    }
   ],
   "source": [
    "#Classification report and confusion matrix for task1_bigram_features_train\n",
    "###__________Code_Here________________###\n",
    "pred=predictions(bigram_model,task1_bigram_features_test)\n",
    "###___________________________________###\n",
    "\n",
    "print(classification_report(task1_label_test, pred, labels=[1, 0]))\n",
    "cm=confusion_matrix(task1_label_test,pred)\n",
    "cm = pd.DataFrame(cm, ['Pos','Neg'], ['Pos','Neg'])# matrix,names row,names col,\n",
    "# plt.figure(figsize=(10,7))\n",
    "sn.set(font_scale=1.5) # for label size\n",
    "sn.heatmap(cm, annot=True, annot_kws={\"size\": 11}, fmt=\"d\") # font size\n",
    "plt.show()"
   ]
  },
  {
   "cell_type": "code",
   "execution_count": 128,
   "metadata": {},
   "outputs": [],
   "source": [
    "#train model on task1_POS_features_train\n",
    "###__________Code_Here________________###\n",
    "\n",
    "model=MultinomialNB()\n",
    "pos_model=train_model(model,task1_POS_features_train,task1_label_train)\n",
    "###___________________________________###"
   ]
  },
  {
   "cell_type": "code",
   "execution_count": 129,
   "metadata": {},
   "outputs": [
    {
     "name": "stdout",
     "output_type": "stream",
     "text": [
      "              precision    recall  f1-score   support\n",
      "\n",
      "           1       0.63      0.77      0.69        35\n",
      "           0       0.85      0.74      0.79        61\n",
      "\n",
      "    accuracy                           0.75        96\n",
      "   macro avg       0.74      0.75      0.74        96\n",
      "weighted avg       0.77      0.75      0.75        96\n",
      "\n"
     ]
    },
    {
     "data": {
      "image/png": "[encoded data removed]",
      "text/plain": [
       "<Figure size 432x288 with 2 Axes>"
      ]
     },
     "metadata": {},
     "output_type": "display_data"
    }
   ],
   "source": [
    "#Classification report for task1_POS_features\n",
    "###__________Code_Here________________###\n",
    "pred=predictions(pos_model,task1_POS_features_test)\n",
    "###___________________________________###\n",
    "\n",
    "print(classification_report(task1_label_test, pred, labels=[1,0]))\n",
    "cm=confusion_matrix(task1_label_test,pred)\n",
    "cm = pd.DataFrame(cm, ['Pos','Neg'], ['Pos','Neg'])# matrix,names row,names col,\n",
    "# plt.figure(figsize=(10,7))\n",
    "sn.set(font_scale=1.5) # for label size\n",
    "sn.heatmap(cm, annot=True, annot_kws={\"size\": 11}, fmt=\"d\") # font size\n",
    "plt.show()"
   ]
  },
  {
   "cell_type": "markdown",
   "metadata": {},
   "source": [
    "#### Compare how performance changes for different feature vectors for task1? "
   ]
  },
  {
   "cell_type": "code",
   "execution_count": 119,
   "metadata": {},
   "outputs": [],
   "source": [
    "%%capture\n",
    "###______________Answer_Start_________###\n",
    "#If we order feature vector according to performance :<br>\n",
    "###    1. Unigram <br>\n",
    "###    2. Pos <br>\n",
    "###    3. Bigram   <br>\n",
    "###    Unigram performed well. \n",
    "\n",
    "###______________Answer_End_________###"
   ]
  },
  {
   "cell_type": "markdown",
   "metadata": {},
   "source": [
    "##### Repeat the above steps for task2"
   ]
  },
  {
   "cell_type": "code",
   "execution_count": 135,
   "metadata": {},
   "outputs": [],
   "source": [
    "#train model on task2_unigram_features_train\n",
    "###__________Code_Here________________###\n",
    "\n",
    "model = MultinomialNB()\n",
    "unigram_model=train_model(model,task2_unigram_features_train,task2_label_train)\n",
    "\n",
    "###___________________________________###"
   ]
  },
  {
   "cell_type": "code",
   "execution_count": 136,
   "metadata": {},
   "outputs": [
    {
     "name": "stdout",
     "output_type": "stream",
     "text": [
      "              precision    recall  f1-score   support\n",
      "\n",
      "           1       0.42      0.28      0.33        29\n",
      "           0       0.62      0.80      0.70        61\n",
      "          -1       0.77      0.71      0.74       108\n",
      "\n",
      "    accuracy                           0.68       198\n",
      "   macro avg       0.60      0.60      0.59       198\n",
      "weighted avg       0.67      0.68      0.67       198\n",
      "\n"
     ]
    },
    {
     "data": {
      "image/png": "[encoded data removed]",
      "text/plain": [
       "<Figure size 432x288 with 2 Axes>"
      ]
     },
     "metadata": {},
     "output_type": "display_data"
    }
   ],
   "source": [
    "#Classification report for task2_unigram_features\n",
    "###__________Code_Here________________###\n",
    "pred=predictions(unigram_model,task2_unigram_features_test)\n",
    "###___________________________________###\n",
    "print(classification_report(task2_label_test, pred, labels=[1, 0,-1]))\n",
    "cm=confusion_matrix(task2_label_test,pred)\n",
    "cm = pd.DataFrame(cm, [\"Pos\",\"Neg\",\"Neutral\"], [\"Pos\",\"Neg\",\"Neutral\"])# matrix,names row,names col,\n",
    "# plt.figure(figsize=(10,7))\n",
    "sn.set(font_scale=1.5) # for label size\n",
    "sn.heatmap(cm, annot=True, annot_kws={\"size\": 11}, fmt=\"d\") # font size\n",
    "plt.show()"
   ]
  },
  {
   "cell_type": "code",
   "execution_count": 137,
   "metadata": {},
   "outputs": [],
   "source": [
    "#train model on task2_bigram_features_train\n",
    "###__________Code_Here________________###\n",
    "model = MultinomialNB()\n",
    "bigram_model=train_model(model,task2_bigram_features_train,task2_label_train)\n",
    "\n",
    "\n",
    "###___________________________________###"
   ]
  },
  {
   "cell_type": "code",
   "execution_count": 139,
   "metadata": {},
   "outputs": [
    {
     "name": "stdout",
     "output_type": "stream",
     "text": [
      "              precision    recall  f1-score   support\n",
      "\n",
      "           1       0.25      0.55      0.35        29\n",
      "           0       0.60      0.46      0.52        61\n",
      "          -1       0.76      0.62      0.68       108\n",
      "\n",
      "    accuracy                           0.56       198\n",
      "   macro avg       0.54      0.54      0.52       198\n",
      "weighted avg       0.64      0.56      0.58       198\n",
      "\n"
     ]
    },
    {
     "data": {
      "image/png": "[encoded data removed]",
      "text/plain": [
       "<Figure size 432x288 with 2 Axes>"
      ]
     },
     "metadata": {},
     "output_type": "display_data"
    }
   ],
   "source": [
    "#Classification report for task2_bigram_features\n",
    "###__________Code_Here________________###\n",
    "pred=predictions(bigram_model,task2_bigram_features_test)\n",
    "###___________________________________###\n",
    "\n",
    "print(classification_report(task2_label_test, pred, labels=[1, 0,-1]))\n",
    "cm=confusion_matrix(task2_label_test,pred)\n",
    "cm = pd.DataFrame(cm, [\"Pos\",\"Neg\",\"Neutral\"], [\"Pos\",\"Neg\",\"Neutral\"])# matrix,names row,names col,\n",
    "# plt.figure(figsize=(10,7))\n",
    "sn.set(font_scale=1.5) # for label size\n",
    "sn.heatmap(cm, annot=True, annot_kws={\"size\": 11}, fmt=\"d\") # font size\n",
    "plt.show()"
   ]
  },
  {
   "cell_type": "code",
   "execution_count": 140,
   "metadata": {},
   "outputs": [],
   "source": [
    "#train model on task2_POS_features_train\n",
    "###__________Code_Here________________###\n",
    "model=MultinomialNB()\n",
    "pos_model=train_model(model,task2_POS_features_train,task2_label_train)\n",
    "\n",
    "###___________________________________###"
   ]
  },
  {
   "cell_type": "code",
   "execution_count": 141,
   "metadata": {},
   "outputs": [
    {
     "name": "stdout",
     "output_type": "stream",
     "text": [
      "              precision    recall  f1-score   support\n",
      "\n",
      "           1       0.30      0.21      0.24        29\n",
      "           0       0.61      0.74      0.67        61\n",
      "          -1       0.75      0.72      0.74       108\n",
      "\n",
      "    accuracy                           0.65       198\n",
      "   macro avg       0.55      0.56      0.55       198\n",
      "weighted avg       0.64      0.65      0.64       198\n",
      "\n"
     ]
    },
    {
     "data": {
      "image/png": "[encoded data removed]",
      "text/plain": [
       "<Figure size 432x288 with 2 Axes>"
      ]
     },
     "metadata": {},
     "output_type": "display_data"
    }
   ],
   "source": [
    "\n",
    "#Classification report for task2_POS_features\n",
    "###__________Code_Here________________###\n",
    "pred=predictions(pos_model,task2_POS_features_test)\n",
    "###___________________________________###\n",
    "\n",
    "print(classification_report(task2_label_test, pred, labels=[1, 0,-1]))\n",
    "cm=confusion_matrix(task2_label_test,pred)\n",
    "cm = pd.DataFrame(cm, [\"Pos\",\"Neg\",\"Neutral\"], [\"Pos\",\"Neg\",\"Neutral\"])# matrix,names row,names col,\n",
    "# plt.figure(figsize=(10,7))\n",
    "sn.set(font_scale=1.5) # for label size\n",
    "sn.heatmap(cm, annot=True, annot_kws={\"size\": 11}, fmt=\"d\") # font size\n",
    "plt.show()"
   ]
  },
  {
   "cell_type": "markdown",
   "metadata": {},
   "source": [
    "#####  How does the addition of an extra class affect the learning of our algorithm? Which pairs of classes are most often confused? Why might that be? "
   ]
  },
  {
   "cell_type": "code",
   "execution_count": 142,
   "metadata": {},
   "outputs": [],
   "source": [
    "%%capture\n",
    "###______________Answer_Start_________###\n",
    "### Again Unigram performed well.\n",
    "### If we order feature vector according to performance :<br>\n",
    "###    1. Unigram <br>\n",
    "###    2. Pos <br>\n",
    "###    3. Bigram   <br>\n",
    "###    \n",
    "\n",
    "\n",
    "\n",
    "###______________Answer_End_________###"
   ]
  },
  {
   "cell_type": "markdown",
   "metadata": {},
   "source": [
    "### We can further create more complex features by combining different ngram features to  improve performance. We can also remove words that occur rarely in our dataset to reduce the size of our feature vectors. "
   ]
  },
  {
   "cell_type": "markdown",
   "metadata": {},
   "source": [
    "#### Model2: Logistic Regression\n",
    "We will now use [logistic regression](https://scikit-learn.org/stable/modules/generated/sklearn.linear_model.LogisticRegression.html) to explore the improvements stated above. To create complex feature vectors we will use [CountVectorizer](https://scikit-learn.org/stable/modules/generated/sklearn.feature_extraction.text.CountVectorizer.html) from sklearn.<br>\n",
    "We will play around with two parameters of CountVectorizer:\n",
    "<ul>\n",
    "    <li>min_df ( = 5): defines the minimum frequency of a word for it to be counted as a feature, in this case the word should have a frequency count of atleast 5.</li>\n",
    "    <li>ngram_range (= (2,2)): The ngram_range parameter is a tuple. It defines the minimum and maximum length of sequence of tokens considered. In this case, this length is 2. So, this will find sequence of 2 tokens like — ‘but the’, ‘wise man’ etc.</li>\n",
    "</ul>\n",
    "Use the ngram_range=(1,2) and min_df=5.\n",
    "\n",
    "Hint: See the fit and transform functions<br>\n",
    "<i>If you get stuck, you can look at our solution</i> [here](https://ibb.co/p4BFdvs)\n",
    "    \n",
    "\n",
    "    "
   ]
  },
  {
   "cell_type": "code",
   "execution_count": 153,
   "metadata": {},
   "outputs": [],
   "source": [
    "from sklearn.feature_extraction.text import CountVectorizer\n",
    "from sklearn.linear_model import LogisticRegression"
   ]
  },
  {
   "cell_type": "code",
   "execution_count": 175,
   "metadata": {},
   "outputs": [
    {
     "name": "stdout",
     "output_type": "stream",
     "text": [
      "(988, 982)\n"
     ]
    }
   ],
   "source": [
    "#create complex features\n",
    "###__________Code_Here________________###\n",
    "vectorize=CountVectorizer(ngram_range=(1, 2), min_df=3)\n",
    "X=vectorize.fit_transform(tweet_X_task2)\n",
    "X=X.toarray()\n",
    "print(X.shape)\n",
    "###___________________________________###"
   ]
  },
  {
   "cell_type": "code",
   "execution_count": 176,
   "metadata": {},
   "outputs": [],
   "source": [
    "#train logistic regression model\n",
    "###__________Code_Here________________###\n",
    "X_train,X_test,Y_train,Y_test=train_test_split(X,sentiment_label_Y_task2,test_size=0.20, random_state=42) \n",
    "LR_model=LogisticRegression(random_state=0).fit(X_train,Y_train)\n",
    "###___________________________________###"
   ]
  },
  {
   "cell_type": "code",
   "execution_count": 177,
   "metadata": {},
   "outputs": [
    {
     "name": "stdout",
     "output_type": "stream",
     "text": [
      "              precision    recall  f1-score   support\n",
      "\n",
      "         Pos       0.69      0.38      0.49        29\n",
      "         Neg       0.67      0.67      0.67        61\n",
      "     Neutral       0.72      0.81      0.76       108\n",
      "\n",
      "    accuracy                           0.70       198\n",
      "   macro avg       0.69      0.62      0.64       198\n",
      "weighted avg       0.70      0.70      0.69       198\n",
      "\n"
     ]
    },
    {
     "data": {
      "image/png": "[encoded data removed]",
      "text/plain": [
       "<Figure size 432x288 with 2 Axes>"
      ]
     },
     "metadata": {},
     "output_type": "display_data"
    }
   ],
   "source": [
    "#train model on complex_feature\n",
    "###__________Code_Here________________###\n",
    "pred=LR_model.predict(X_test)\n",
    "###___________________________________###\n",
    "\n",
    "print(classification_report(Y_test, pred, labels=[\"Pos\", \"Neg\",\"Neutral\"]))\n",
    "cm=confusion_matrix(Y_test,pred)\n",
    "cm = pd.DataFrame(cm, [\"Pos\",\"Neg\",\"Neutral\"], [\"Pos\",\"Neg\",\"Neutral\"])# matrix,names row,names col,\n",
    "# plt.figure(figsize=(10,7))\n",
    "sn.set(font_scale=1.5) # for label size\n",
    "sn.heatmap(cm, annot=True, annot_kws={\"size\": 11}, fmt=\"d\") # font size\n",
    "plt.show()"
   ]
  },
  {
   "cell_type": "markdown",
   "metadata": {},
   "source": [
    "#### You can play around with ngram_range and min_df to further improve performance. \n"
   ]
  },
  {
   "cell_type": "markdown",
   "metadata": {},
   "source": [
    "Great you have completed the first task now move onto [Part 2](https://ibb.co/MfpxHZh)."
   ]
  },
  {
   "cell_type": "code",
   "execution_count": null,
   "metadata": {},
   "outputs": [],
   "source": []
  }
 ],
 "metadata": {
  "kernelspec": {
   "display_name": "Python 3",
   "language": "python",
   "name": "python3"
  },
  "language_info": {
   "codemirror_mode": {
    "name": "ipython",
    "version": 3
   },
   "file_extension": ".py",
   "mimetype": "text/x-python",
   "name": "python",
   "nbconvert_exporter": "python",
   "pygments_lexer": "ipython3",
   "version": "3.7.6"
  }
 },
 "nbformat": 4,
 "nbformat_minor": 2
}
